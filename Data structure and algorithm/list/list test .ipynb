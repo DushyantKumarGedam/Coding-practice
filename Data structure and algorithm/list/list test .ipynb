{
 "cells": [
  {
   "cell_type": "markdown",
   "id": "1675df30-bb68-473f-9c40-6cacb64bc01d",
   "metadata": {},
   "source": [
    "## Beginner Level\n",
    "1. Create a list of 5 integers and print the list.\n",
    "2. Append a new element to the list and print it.\n",
    "3. Insert an element at the second position.\n",
    "4. Remove a specific element from the list.\n",
    "5. Print the length of the list.\n",
    "6. Access and print the third element from the 6.list.\n",
    "7. Reverse the list using a method.\n",
    "8. Sort the list in ascending order.\n",
    "9. Count how many times a specific element appears in a list.\n",
    "10. Find the maximum and minimum value in the list."
   ]
  },
  {
   "cell_type": "code",
   "execution_count": 1,
   "id": "916e032e-dfc3-4a2f-a908-b55e3ca3a5c3",
   "metadata": {},
   "outputs": [
    {
     "name": "stdout",
     "output_type": "stream",
     "text": [
      "[76, 46, 96, 23, 86]\n"
     ]
    }
   ],
   "source": [
    "a=[76,46,96,23,86]\n",
    "print(a)"
   ]
  },
  {
   "cell_type": "code",
   "execution_count": 2,
   "id": "64326a27-a42f-4a87-9f2a-cb246cf93c38",
   "metadata": {},
   "outputs": [
    {
     "name": "stdout",
     "output_type": "stream",
     "text": [
      "[76, 46, 96, 23, 86, 58]\n"
     ]
    }
   ],
   "source": [
    "a.append(58)\n",
    "print(a)"
   ]
  },
  {
   "cell_type": "code",
   "execution_count": 3,
   "id": "ccaccbc9-1e61-4dd0-a290-f8b634c98846",
   "metadata": {},
   "outputs": [
    {
     "name": "stdout",
     "output_type": "stream",
     "text": [
      "[76, 85, 46, 96, 23, 86, 58]\n"
     ]
    }
   ],
   "source": [
    "a.insert(1,85)\n",
    "print(a)"
   ]
  },
  {
   "cell_type": "code",
   "execution_count": 4,
   "id": "45d52d07-27ca-438d-9df0-28fae1415414",
   "metadata": {},
   "outputs": [
    {
     "name": "stdout",
     "output_type": "stream",
     "text": [
      "[76, 85, 46, 96, 23, 86]\n"
     ]
    }
   ],
   "source": [
    "a.remove(58)\n",
    "print(a)"
   ]
  },
  {
   "cell_type": "code",
   "execution_count": 5,
   "id": "f98c970a-cf62-4a9f-bce0-656c26b733f3",
   "metadata": {},
   "outputs": [
    {
     "data": {
      "text/plain": [
       "6"
      ]
     },
     "execution_count": 5,
     "metadata": {},
     "output_type": "execute_result"
    }
   ],
   "source": [
    "len(a)"
   ]
  },
  {
   "cell_type": "code",
   "execution_count": 6,
   "id": "56ba87c8-20c9-41c0-82b5-2d1cdcd4a829",
   "metadata": {},
   "outputs": [
    {
     "data": {
      "text/plain": [
       "46"
      ]
     },
     "execution_count": 6,
     "metadata": {},
     "output_type": "execute_result"
    }
   ],
   "source": [
    "a[2]"
   ]
  },
  {
   "cell_type": "code",
   "execution_count": 7,
   "id": "1e139d42-9671-4ada-9585-55f543edf164",
   "metadata": {},
   "outputs": [
    {
     "name": "stdout",
     "output_type": "stream",
     "text": [
      "[86, 23, 96, 46, 85, 76]\n"
     ]
    }
   ],
   "source": [
    "a.reverse()\n",
    "print(a)"
   ]
  },
  {
   "cell_type": "code",
   "execution_count": 8,
   "id": "58038b5c-e0a1-4515-a6c1-892ffb9a472c",
   "metadata": {
    "scrolled": true
   },
   "outputs": [
    {
     "name": "stdout",
     "output_type": "stream",
     "text": [
      "[23, 46, 76, 85, 86, 96]\n"
     ]
    }
   ],
   "source": [
    "a.sort()\n",
    "print(a)"
   ]
  },
  {
   "cell_type": "code",
   "execution_count": 9,
   "id": "b80d94c4-f3be-4cf1-a94a-425c466226d1",
   "metadata": {},
   "outputs": [
    {
     "data": {
      "text/plain": [
       "1"
      ]
     },
     "execution_count": 9,
     "metadata": {},
     "output_type": "execute_result"
    }
   ],
   "source": [
    "a.count(23)"
   ]
  },
  {
   "cell_type": "code",
   "execution_count": 10,
   "id": "63d29823-5bdf-439c-9ff9-ec502d2dd979",
   "metadata": {},
   "outputs": [
    {
     "data": {
      "text/plain": [
       "96"
      ]
     },
     "execution_count": 10,
     "metadata": {},
     "output_type": "execute_result"
    }
   ],
   "source": [
    "max(a)"
   ]
  },
  {
   "cell_type": "code",
   "execution_count": 11,
   "id": "a5408711-62f8-472c-bfef-5113b6f76f4d",
   "metadata": {},
   "outputs": [
    {
     "data": {
      "text/plain": [
       "23"
      ]
     },
     "execution_count": 11,
     "metadata": {},
     "output_type": "execute_result"
    }
   ],
   "source": [
    "min(a)"
   ]
  },
  {
   "cell_type": "markdown",
   "id": "fa67e896-2d09-4d14-95d4-f8cacf7d20f1",
   "metadata": {},
   "source": [
    "## Intermediate Level\n",
    "- Write a program to remove duplicates from a list.\n",
    "- Write a Python program to merge two lists.\n",
    "- Find the second largest number in a list.\n",
    "- Write a program to remove all even numbers from a list.\n",
    "- Check if a list is a palindrome.\n",
    "- Flatten a nested list (e.g., [[1, 2], [3, 4]] → [1, 2, 3, 4]).\n",
    "- Write a program to shift elements in a list to the right by one position.\n",
    "- Generate a list of squares from 1 to 10 using list comprehension.\n",
    "- Write a program to split a list into two halves.\n",
    "- Create a list of only unique elements from a given list."
   ]
  },
  {
   "cell_type": "code",
   "execution_count": 5,
   "id": "bed7de5c-dc11-4b2a-a35e-5e710e644303",
   "metadata": {},
   "outputs": [
    {
     "name": "stdout",
     "output_type": "stream",
     "text": [
      "[1, 5, 3, 582, 6, 4, 92, 58, 5, 2, 5, 2, 55, 4, 58]\n"
     ]
    }
   ],
   "source": [
    "list1 =[1,5,3,582,6,4,92,58,5,2,5,2,55,4,58]\n",
    "print(list1)"
   ]
  },
  {
   "cell_type": "code",
   "execution_count": 13,
   "id": "baf7d00c-759a-432f-ab13-2af888aa1ec7",
   "metadata": {},
   "outputs": [
    {
     "data": {
      "text/plain": [
       "5"
      ]
     },
     "execution_count": 13,
     "metadata": {},
     "output_type": "execute_result"
    }
   ],
   "source": [
    "import statistics\n",
    "from statistics import mode\n",
    "mode(list1)"
   ]
  },
  {
   "cell_type": "code",
   "execution_count": null,
   "id": "6ac64973-066d-4ecd-8999-788bec156ce6",
   "metadata": {},
   "outputs": [],
   "source": [
    " # in this i will ask use for lists\n"
   ]
  },
  {
   "cell_type": "code",
   "execution_count": null,
   "id": "00979279-391a-437f-bce6-2f069478dc6d",
   "metadata": {},
   "outputs": [],
   "source": []
  },
  {
   "cell_type": "markdown",
   "id": "9a5aabdd-edcf-41a7-a021-3adc4f0e74e9",
   "metadata": {},
   "source": [
    "## Advanced/Bonus\n",
    "* Rotate a list n times to the left/right.\n",
    "* Find all pairs in the list that sum to a target number.\n",
    "* Find the frequency of each element in the list.\n",
    "* Sort a list of strings by their lengths.\n",
    "* Write a program to interleave two lists (e.g., [1,2,3] and [a,b,c] → [1,a,2,b,3,c])."
   ]
  },
  {
   "cell_type": "code",
   "execution_count": null,
   "id": "e741782e-c655-42f3-a033-c97f15451cc4",
   "metadata": {},
   "outputs": [],
   "source": []
  }
 ],
 "metadata": {
  "kernelspec": {
   "display_name": "Python 3 (ipykernel)",
   "language": "python",
   "name": "python3"
  },
  "language_info": {
   "codemirror_mode": {
    "name": "ipython",
    "version": 3
   },
   "file_extension": ".py",
   "mimetype": "text/x-python",
   "name": "python",
   "nbconvert_exporter": "python",
   "pygments_lexer": "ipython3",
   "version": "3.12.5"
  }
 },
 "nbformat": 4,
 "nbformat_minor": 5
}
