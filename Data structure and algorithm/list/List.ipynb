{
 "cells": [
  {
   "cell_type": "code",
   "execution_count": 1,
   "id": "c01a78dd-635a-4f00-90bf-d434bbdc2b2d",
   "metadata": {},
   "outputs": [
    {
     "ename": "SyntaxError",
     "evalue": "leading zeros in decimal integer literals are not permitted; use an 0o prefix for octal integers (4162501750.py, line 1)",
     "output_type": "error",
     "traceback": [
      "\u001b[0;36m  Cell \u001b[0;32mIn[1], line 1\u001b[0;36m\u001b[0m\n\u001b[0;31m    a=[23,56,04,'hello',True,\"world\"]\u001b[0m\n\u001b[0m             ^\u001b[0m\n\u001b[0;31mSyntaxError\u001b[0m\u001b[0;31m:\u001b[0m leading zeros in decimal integer literals are not permitted; use an 0o prefix for octal integers\n"
     ]
    }
   ],
   "source": [
    "a=[23,56,04,'hello',True,\"world\"]"
   ]
  },
  {
   "cell_type": "code",
   "execution_count": 2,
   "id": "01190b3c-3372-4f75-acc4-e81f61d7cf91",
   "metadata": {},
   "outputs": [
    {
     "name": "stdout",
     "output_type": "stream",
     "text": [
      "[23, 56, 4, 'hello', True, 'world']\n"
     ]
    }
   ],
   "source": [
    "a=[23,56,4,'hello',True,\"world\"]\n",
    "print(a)"
   ]
  },
  {
   "cell_type": "markdown",
   "id": "accfd22c-960f-426d-b05d-66088d413027",
   "metadata": {},
   "source": [
    "#### We can not use 0 as leading interger (01,05,036,etc) its not permitted"
   ]
  },
  {
   "cell_type": "code",
   "execution_count": 3,
   "id": "bd32a9f7-c178-4588-a496-88e793c27b54",
   "metadata": {},
   "outputs": [
    {
     "name": "stdout",
     "output_type": "stream",
     "text": [
      "23\n",
      "56\n",
      "4\n",
      "hello\n",
      "True\n",
      "world\n"
     ]
    }
   ],
   "source": [
    "print(a[0])\n",
    "print(a[1])\n",
    "print(a[2])\n",
    "print(a[3])\n",
    "print(a[4])\n",
    "print(a[-1])"
   ]
  },
  {
   "cell_type": "code",
   "execution_count": 4,
   "id": "e82b547f-9090-411a-bcc1-02c410b605b6",
   "metadata": {},
   "outputs": [
    {
     "name": "stdout",
     "output_type": "stream",
     "text": [
      "<class 'int'>\n"
     ]
    }
   ],
   "source": [
    "print(type(a[0]))"
   ]
  },
  {
   "cell_type": "code",
   "execution_count": 5,
   "id": "8eabc9bd-285e-42ee-b740-4be8a9bd94fa",
   "metadata": {},
   "outputs": [
    {
     "name": "stdout",
     "output_type": "stream",
     "text": [
      "<class 'list'>\n"
     ]
    }
   ],
   "source": [
    "print(type(a))"
   ]
  },
  {
   "cell_type": "markdown",
   "id": "2a04926e-daba-4de6-acd1-b91828fd5146",
   "metadata": {},
   "source": [
    "### Creating list with multiple same element"
   ]
  },
  {
   "cell_type": "code",
   "execution_count": 6,
   "id": "0ed1dc75-9cb8-49d0-95bd-bb74f975becc",
   "metadata": {},
   "outputs": [
    {
     "name": "stdout",
     "output_type": "stream",
     "text": [
      "[3, 3, 3, 3, 3]\n"
     ]
    }
   ],
   "source": [
    "m=[3]*5\n",
    "print(m)"
   ]
  },
  {
   "cell_type": "markdown",
   "id": "c925e8a9-b0d9-4d38-9915-35b4760f21cf",
   "metadata": {},
   "source": [
    "### Adding Elements into List\n",
    "\n",
    "####   append(): Adds an element at the end of the list.\n",
    "####   extend(): Adds multiple elements to the end of the list.\n",
    "####   insert(): Adds an element at a specific position."
   ]
  },
  {
   "cell_type": "markdown",
   "id": "190c03c4-62e3-47f1-8d58-c7de8ce30e7d",
   "metadata": {},
   "source": [
    "#### append adds only one element at the end of list"
   ]
  },
  {
   "cell_type": "code",
   "execution_count": 7,
   "id": "8d1ba951-c482-4d82-bdf5-bd6911a9fc17",
   "metadata": {},
   "outputs": [
    {
     "name": "stdout",
     "output_type": "stream",
     "text": [
      "[23, 56, 4, 'hello', True, 'world', 58]\n"
     ]
    }
   ],
   "source": [
    "a.append(58)\n",
    "print(a)"
   ]
  },
  {
   "cell_type": "markdown",
   "id": "c51c22bb-417c-46b0-92e9-f4d63ca7af39",
   "metadata": {},
   "source": [
    "#### insert can insert values between the list \n",
    "syntax: list.**insert(index,element)"
   ]
  },
  {
   "cell_type": "code",
   "execution_count": 8,
   "id": "f5c25db9-05ce-4d81-98a3-d90e0a04fac0",
   "metadata": {},
   "outputs": [
    {
     "name": "stdout",
     "output_type": "stream",
     "text": [
      "['chiku', 23, 56, 4, 'hello', True, 'world', 58]\n"
     ]
    }
   ],
   "source": [
    "a.insert(0,\"chiku\")\n",
    "print(a)"
   ]
  },
  {
   "cell_type": "markdown",
   "id": "cabf4841-b1e2-4c52-9ef7-16637b4de773",
   "metadata": {},
   "source": [
    "#### extend can add multiple element at the end\n",
    "syntax: list.**extend**([elements])"
   ]
  },
  {
   "cell_type": "code",
   "execution_count": 9,
   "id": "3fbac961-5b22-4ea9-87ce-cd03ecad2807",
   "metadata": {},
   "outputs": [
    {
     "name": "stdout",
     "output_type": "stream",
     "text": [
      "['chiku', 23, 56, 4, 'hello', True, 'world', 58, 15, 53, 85]\n"
     ]
    }
   ],
   "source": [
    "a.extend([15,53,85])\n",
    "print(a)"
   ]
  },
  {
   "cell_type": "markdown",
   "id": "f08c52e6-08f6-4eb9-9f46-5dfb38326a21",
   "metadata": {},
   "source": [
    "### update the list"
   ]
  },
  {
   "cell_type": "code",
   "execution_count": 10,
   "id": "76d43c46-4c38-4fb7-91d9-f06128b33db6",
   "metadata": {},
   "outputs": [
    {
     "name": "stdout",
     "output_type": "stream",
     "text": [
      "['chiku', 23, 56, 4, 'hello', True, 'world', 58, 15, 53, 85]\n",
      "['dushyant', 23, 56, 4, 'hello', True, 'world', 58, 15, 53, 85]\n"
     ]
    }
   ],
   "source": [
    "print(a)\n",
    "a[0]=\"dushyant\"\n",
    "print(a)"
   ]
  },
  {
   "cell_type": "markdown",
   "id": "e14b5944-bcec-4617-905a-1589c366789a",
   "metadata": {},
   "source": [
    "### removing or deleting \n",
    "#### remove(): Removes the first occurrence of an element."
   ]
  },
  {
   "cell_type": "code",
   "execution_count": 11,
   "id": "63946e45-daa0-4281-b104-256ab90cb5b5",
   "metadata": {},
   "outputs": [
    {
     "name": "stdout",
     "output_type": "stream",
     "text": [
      "['dushyant', 23, 56, 4, 'hello', True, 'world', 58, 15, 53, 85]\n"
     ]
    }
   ],
   "source": [
    "print(a)\n",
    "a.remove(23)"
   ]
  },
  {
   "cell_type": "markdown",
   "id": "044d0759-2cf0-4a3a-a0e7-457843d603ff",
   "metadata": {},
   "source": [
    "#### pop(): Removes the element at a specific index or the last element if no index is specified."
   ]
  },
  {
   "cell_type": "code",
   "execution_count": 12,
   "id": "01517489-f7cc-470c-a29e-84aca75fa565",
   "metadata": {},
   "outputs": [
    {
     "data": {
      "text/plain": [
       "'hello'"
      ]
     },
     "execution_count": 12,
     "metadata": {},
     "output_type": "execute_result"
    }
   ],
   "source": [
    "a.pop(3)"
   ]
  },
  {
   "cell_type": "markdown",
   "id": "6050504a-b2c4-434d-9098-6c86cc117c9a",
   "metadata": {},
   "source": [
    "#### del statement: Deletes an element at a specified index."
   ]
  },
  {
   "cell_type": "code",
   "execution_count": 13,
   "id": "f3257a92-f073-4e2d-b205-f0965379719c",
   "metadata": {},
   "outputs": [
    {
     "name": "stdout",
     "output_type": "stream",
     "text": [
      "[56, 4, True, 'world', 58, 15, 53, 85]\n"
     ]
    }
   ],
   "source": [
    "del a[0]\n",
    "print(a)"
   ]
  },
  {
   "cell_type": "markdown",
   "id": "b55d8ed3-76b1-43e1-b021-52518ccc5c6b",
   "metadata": {},
   "source": [
    "### iteration of list using loops\n",
    "#### for loop"
   ]
  },
  {
   "cell_type": "code",
   "execution_count": 14,
   "id": "317d32ef-8a62-4681-a86a-f41795b36d20",
   "metadata": {},
   "outputs": [
    {
     "name": "stdout",
     "output_type": "stream",
     "text": [
      "56\n",
      "4\n",
      "True\n",
      "world\n",
      "58\n",
      "15\n",
      "53\n",
      "85\n"
     ]
    }
   ],
   "source": [
    "for item in a:\n",
    "    print(item)"
   ]
  },
  {
   "cell_type": "markdown",
   "id": "3142566f-fd1d-4182-95cb-5adb48f6b356",
   "metadata": {},
   "source": [
    "### sorting  and reverse in lists"
   ]
  },
  {
   "cell_type": "code",
   "execution_count": 19,
   "id": "f6bbaff9-f21f-4e49-8691-52ba5770d564",
   "metadata": {},
   "outputs": [
    {
     "name": "stdout",
     "output_type": "stream",
     "text": [
      "[2, 10, 12, 23, 56, 85] ['apple', 'chiku', 'manish', 'sam']\n"
     ]
    }
   ],
   "source": [
    "l=[12,56,85,23,10,2]\n",
    "m=['apple','chiku','sam','manish']\n",
    "m.sort()\n",
    "l.sort()\n",
    "print(l,m)"
   ]
  },
  {
   "cell_type": "markdown",
   "id": "f60fb0a3-66a0-457c-96a7-0bd1001c4c3b",
   "metadata": {},
   "source": [
    "#### it will not work if elements are different "
   ]
  },
  {
   "cell_type": "code",
   "execution_count": 21,
   "id": "bc613dfc-376d-4b76-8cd3-e3f39c6c2a4d",
   "metadata": {},
   "outputs": [
    {
     "name": "stdout",
     "output_type": "stream",
     "text": [
      "[56, 4, True, 'world', 58, 15, 53, 85]\n"
     ]
    },
    {
     "ename": "TypeError",
     "evalue": "'<' not supported between instances of 'str' and 'bool'",
     "output_type": "error",
     "traceback": [
      "\u001b[0;31m---------------------------------------------------------------------------\u001b[0m",
      "\u001b[0;31mTypeError\u001b[0m                                 Traceback (most recent call last)",
      "Cell \u001b[0;32mIn[21], line 2\u001b[0m\n\u001b[1;32m      1\u001b[0m \u001b[38;5;28mprint\u001b[39m(a)\n\u001b[0;32m----> 2\u001b[0m \u001b[43ma\u001b[49m\u001b[38;5;241;43m.\u001b[39;49m\u001b[43msort\u001b[49m\u001b[43m(\u001b[49m\u001b[43m)\u001b[49m\n\u001b[1;32m      3\u001b[0m \u001b[38;5;28mprint\u001b[39m(a)\n",
      "\u001b[0;31mTypeError\u001b[0m: '<' not supported between instances of 'str' and 'bool'"
     ]
    }
   ],
   "source": [
    "print(a)\n",
    "a.sort()\n",
    "print(a)"
   ]
  },
  {
   "cell_type": "code",
   "execution_count": 22,
   "id": "2b3a9501-2f59-499a-befd-ddd54b9add1e",
   "metadata": {},
   "outputs": [
    {
     "name": "stdout",
     "output_type": "stream",
     "text": [
      "[85, 56, 23, 12, 10, 2]\n"
     ]
    }
   ],
   "source": [
    "l.reverse()\n",
    "print(l)"
   ]
  },
  {
   "cell_type": "markdown",
   "id": "22643fef-80dc-46df-baaf-0ea65bb01110",
   "metadata": {},
   "source": [
    "#### index() return index of element\n",
    "#### syntax: list.**index**(element)"
   ]
  },
  {
   "cell_type": "code",
   "execution_count": 23,
   "id": "bed6cfb0-cdb1-4e84-aab4-4b924b70853c",
   "metadata": {},
   "outputs": [
    {
     "data": {
      "text/plain": [
       "2"
      ]
     },
     "execution_count": 23,
     "metadata": {},
     "output_type": "execute_result"
    }
   ],
   "source": [
    "l.index(23)"
   ]
  },
  {
   "cell_type": "markdown",
   "id": "80eb02b4-6c14-4873-b7a3-e9d6fbbf1019",
   "metadata": {},
   "source": [
    "#### count() give the total number of element "
   ]
  },
  {
   "cell_type": "code",
   "execution_count": 26,
   "id": "fda5d26f-1712-4e60-a367-9e4b366235a7",
   "metadata": {},
   "outputs": [
    {
     "name": "stdout",
     "output_type": "stream",
     "text": [
      "[30, 30, 30, 30, 30]\n"
     ]
    },
    {
     "data": {
      "text/plain": [
       "5"
      ]
     },
     "execution_count": 26,
     "metadata": {},
     "output_type": "execute_result"
    }
   ],
   "source": [
    "k=[30]*5\n",
    "print(k)\n",
    "k.count(30)"
   ]
  },
  {
   "cell_type": "code",
   "execution_count": null,
   "id": "9bb777a5-4902-4bc9-8944-4e7da9484822",
   "metadata": {},
   "outputs": [],
   "source": []
  }
 ],
 "metadata": {
  "kernelspec": {
   "display_name": "Python 3 (ipykernel)",
   "language": "python",
   "name": "python3"
  },
  "language_info": {
   "codemirror_mode": {
    "name": "ipython",
    "version": 3
   },
   "file_extension": ".py",
   "mimetype": "text/x-python",
   "name": "python",
   "nbconvert_exporter": "python",
   "pygments_lexer": "ipython3",
   "version": "3.12.5"
  }
 },
 "nbformat": 4,
 "nbformat_minor": 5
}
