{
 "cells": [
  {
   "cell_type": "markdown",
   "id": "005c6f2f-794e-42f1-9293-964dc49fcca9",
   "metadata": {},
   "source": [
    "## Takes marks of 5 subjects from the user"
   ]
  },
  {
   "cell_type": "code",
   "execution_count": 2,
   "id": "6b64abcb-9b1e-4754-99dd-afd163405f9a",
   "metadata": {},
   "outputs": [
    {
     "name": "stdin",
     "output_type": "stream",
     "text": [
      "Enter elements of list  55 45 85 6 85 \n"
     ]
    },
    {
     "name": "stdout",
     "output_type": "stream",
     "text": [
      "55 45 85 6 85 \n"
     ]
    },
    {
     "data": {
      "text/plain": [
       "str"
      ]
     },
     "execution_count": 2,
     "metadata": {},
     "output_type": "execute_result"
    }
   ],
   "source": [
    "a=input(\"Enter elements of list \")\n",
    "print(a)\n",
    "type(a)"
   ]
  },
  {
   "cell_type": "markdown",
   "id": "5b709d70-4b8d-420d-8fd7-17e6cb7ea391",
   "metadata": {},
   "source": [
    "as we can se its not a list,its count as a string to convert string into list we use **split()** funtion"
   ]
  },
  {
   "cell_type": "code",
   "execution_count": 7,
   "id": "9f0259d7-f53b-499e-a5fc-74beef6609f5",
   "metadata": {},
   "outputs": [
    {
     "name": "stdout",
     "output_type": "stream",
     "text": [
      "['55', '45', '85', '6', '85']\n"
     ]
    },
    {
     "data": {
      "text/plain": [
       "list"
      ]
     },
     "execution_count": 7,
     "metadata": {},
     "output_type": "execute_result"
    }
   ],
   "source": [
    "list=a.split()\n",
    "print(list)\n",
    "type(list)"
   ]
  },
  {
   "cell_type": "markdown",
   "id": "05d82120-5480-4848-bd9c-1cb7d09923c3",
   "metadata": {},
   "source": [
    "## Calculates and displays the average marks."
   ]
  },
  {
   "cell_type": "code",
   "execution_count": 11,
   "id": "48b69277-fca7-4579-b1ec-82f3c0ead963",
   "metadata": {},
   "outputs": [
    {
     "name": "stdout",
     "output_type": "stream",
     "text": [
      "['55', '45', '85', '6', '85']\n"
     ]
    },
    {
     "ename": "TypeError",
     "evalue": "unsupported operand type(s) for +: 'int' and 'str'",
     "output_type": "error",
     "traceback": [
      "\u001b[0;31m---------------------------------------------------------------------------\u001b[0m",
      "\u001b[0;31mTypeError\u001b[0m                                 Traceback (most recent call last)",
      "Cell \u001b[0;32mIn[11], line 2\u001b[0m\n\u001b[1;32m      1\u001b[0m \u001b[38;5;28mprint\u001b[39m(\u001b[38;5;28mlist\u001b[39m)\n\u001b[0;32m----> 2\u001b[0m \u001b[38;5;28;43msum\u001b[39;49m\u001b[43m(\u001b[49m\u001b[38;5;28;43mlist\u001b[39;49m\u001b[43m)\u001b[49m\n",
      "\u001b[0;31mTypeError\u001b[0m: unsupported operand type(s) for +: 'int' and 'str'"
     ]
    }
   ],
   "source": [
    "print(list)\n",
    "sum(list) \n",
    "# this is giving error because elements are in sting form not int"
   ]
  },
  {
   "cell_type": "markdown",
   "id": "b421900e-26d3-4329-9c60-2c0c9dfbf17a",
   "metadata": {},
   "source": [
    "### using loop for iteration"
   ]
  },
  {
   "cell_type": "code",
   "execution_count": 14,
   "id": "e1dd02cd-84f9-41ee-8eb2-2aaf9d92eea4",
   "metadata": {},
   "outputs": [
    {
     "name": "stdout",
     "output_type": "stream",
     "text": [
      "[55, 45, 85, 6, 85]\n"
     ]
    }
   ],
   "source": [
    "int_list=[int(x) for x in  list]\n",
    "print(int_list)"
   ]
  },
  {
   "cell_type": "code",
   "execution_count": 6,
   "id": "96a501ed-1d75-42e1-a668-8dd79ed09a44",
   "metadata": {},
   "outputs": [
    {
     "name": "stdin",
     "output_type": "stream",
     "text": [
      "enter any number 2 6 5 42 6 5\n"
     ]
    },
    {
     "name": "stdout",
     "output_type": "stream",
     "text": [
      "[2, 6, 5, 42, 6, 5]\n"
     ]
    },
    {
     "data": {
      "text/plain": [
       "list"
      ]
     },
     "execution_count": 6,
     "metadata": {},
     "output_type": "execute_result"
    }
   ],
   "source": [
    "# we can also use map()\n",
    "# Get user input, split it, and convert to integers\n",
    "user=input(\"enter any number\")\n",
    "ui=user.split()\n",
    "int_user=map(int,ui)\n",
    "list_user=list(int_user)\n",
    "print(list_user)\n",
    "type(list_user)\n",
    "\n",
    "\n",
    "# or we can do all above as:-\n",
    "# list_user=list(map(int,input(\"enter any number\").split()))"
   ]
  },
  {
   "cell_type": "code",
   "execution_count": 20,
   "id": "393ef4d6-b22c-4321-abdd-2c782d46e7a3",
   "metadata": {},
   "outputs": [
    {
     "name": "stdout",
     "output_type": "stream",
     "text": [
      "55.2\n"
     ]
    }
   ],
   "source": [
    "avg= sum(int_list)/len(int_list)\n",
    "print(avg)"
   ]
  },
  {
   "cell_type": "markdown",
   "id": "4f27affe-f99c-4fe0-b2fb-4e723fd5d0f1",
   "metadata": {},
   "source": [
    "## Displays the highest and lowest marks."
   ]
  },
  {
   "cell_type": "code",
   "execution_count": 26,
   "id": "2a029c0a-d6ad-49af-a906-59bcc76240a9",
   "metadata": {},
   "outputs": [
    {
     "data": {
      "text/plain": [
       "85"
      ]
     },
     "execution_count": 26,
     "metadata": {},
     "output_type": "execute_result"
    }
   ],
   "source": [
    "max(int_list)"
   ]
  },
  {
   "cell_type": "code",
   "execution_count": 27,
   "id": "b5840b94-0013-40d7-924f-3287316e644a",
   "metadata": {},
   "outputs": [
    {
     "name": "stdout",
     "output_type": "stream",
     "text": [
      "[55, 45, 85, 6, 85]\n"
     ]
    },
    {
     "data": {
      "text/plain": [
       "6"
      ]
     },
     "execution_count": 27,
     "metadata": {},
     "output_type": "execute_result"
    }
   ],
   "source": [
    "print(int_list)\n",
    "min(int_list)"
   ]
  },
  {
   "cell_type": "code",
   "execution_count": null,
   "id": "bf3b2bc4-b21d-4755-9dd5-a813c632274e",
   "metadata": {},
   "outputs": [],
   "source": []
  }
 ],
 "metadata": {
  "kernelspec": {
   "display_name": "Python 3 (ipykernel)",
   "language": "python",
   "name": "python3"
  },
  "language_info": {
   "codemirror_mode": {
    "name": "ipython",
    "version": 3
   },
   "file_extension": ".py",
   "mimetype": "text/x-python",
   "name": "python",
   "nbconvert_exporter": "python",
   "pygments_lexer": "ipython3",
   "version": "3.12.5"
  }
 },
 "nbformat": 4,
 "nbformat_minor": 5
}
