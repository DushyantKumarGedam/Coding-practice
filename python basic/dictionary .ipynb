{
 "cells": [
  {
   "cell_type": "markdown",
   "id": "8b9d8dce-5cc3-4ac9-bd2b-3173320a57c6",
   "metadata": {},
   "source": [
    "## Dictionary"
   ]
  },
  {
   "cell_type": "code",
   "execution_count": 1,
   "id": "0a95c938-a7a1-43d8-ae94-07e18fb8d99b",
   "metadata": {},
   "outputs": [
    {
     "name": "stdout",
     "output_type": "stream",
     "text": [
      "{1: 'Chiku', 2: 'Dushyant', 3: 'Gedam'}\n",
      "Gedam\n"
     ]
    }
   ],
   "source": [
    "d = {1:'Chiku',2:'Dushyant',3:'Gedam'}\n",
    "print(d)\n",
    "print(d[3])"
   ]
  },
  {
   "cell_type": "markdown",
   "id": "93b133a2-8251-4d64-91b9-b9e2bd377bf4",
   "metadata": {},
   "source": [
    "#### we can also create dictionary using **dict()**  funtion"
   ]
  },
  {
   "cell_type": "code",
   "execution_count": 2,
   "id": "bd769b15-97e1-44cf-a32c-4c22c78557ad",
   "metadata": {},
   "outputs": [
    {
     "name": "stdout",
     "output_type": "stream",
     "text": [
      "{'a': 'hello', 'b': 'world'}\n"
     ]
    },
    {
     "data": {
      "text/plain": [
       "dict"
      ]
     },
     "execution_count": 2,
     "metadata": {},
     "output_type": "execute_result"
    }
   ],
   "source": [
    "d2=dict(a=\"hello\",b=\"world\")\n",
    "print(d2)\n",
    "type(d2)"
   ]
  },
  {
   "cell_type": "markdown",
   "id": "f8df13b7-eace-4e8d-a140-b0a6e3cfd733",
   "metadata": {},
   "source": [
    "### accessing dictionary "
   ]
  },
  {
   "cell_type": "code",
   "execution_count": 9,
   "id": "bd565838-d385-496b-a798-249a30fc54f8",
   "metadata": {},
   "outputs": [
    {
     "name": "stdout",
     "output_type": "stream",
     "text": [
      "{'name': 'Dushyant', 'collage': 'Indian collage', 'course': 'BCA', 'tol_sub': 6}\n",
      "Dushyant\n",
      "6\n"
     ]
    }
   ],
   "source": [
    "d1={\"name\":\"Dushyant\",\"collage\":\"Indian collage\",\"course\":\"BCA\",\"tol_sub\":6}\n",
    "print(d1)\n",
    "print(d1[\"name\"])\n",
    "print(d1.get(\"tol_sub\"))"
   ]
  },
  {
   "cell_type": "markdown",
   "id": "1cc3e794-e559-4d9e-8de5-a548cfc74d2e",
   "metadata": {},
   "source": [
    "#### Adding and Updating Dictionary Items"
   ]
  },
  {
   "cell_type": "code",
   "execution_count": 12,
   "id": "e5ecbec8-776f-47f3-8eea-9c87db68ab69",
   "metadata": {},
   "outputs": [
    {
     "name": "stdout",
     "output_type": "stream",
     "text": [
      "{'name': 'chiku', 'collage': 'Indian collage', 'course': 'BCA', 'tol_sub': 6, 'pass_year': 2024}\n"
     ]
    }
   ],
   "source": [
    "d1[\"name\"]=\"chiku\"      # update\n",
    "d1[\"pass_year\"]=2024    # adding\n",
    "print(d1)"
   ]
  },
  {
   "cell_type": "markdown",
   "id": "eea7b6cb-f1bf-4cc3-a34a-ce95d4e061a2",
   "metadata": {},
   "source": [
    "### Removing Dictionary Items\n",
    "1. del: Removes an item by key.\n",
    "2. pop(): Removes an item by key and returns its value.\n",
    "3. clear(): Empties the dictionary.\n",
    "4. popitem(): Removes and returns the last key-value pair."
   ]
  },
  {
   "cell_type": "code",
   "execution_count": 13,
   "id": "e22412aa-63fd-4614-8d16-2799f7dd6f42",
   "metadata": {},
   "outputs": [
    {
     "name": "stdout",
     "output_type": "stream",
     "text": [
      "{1: 'Dushyant', 2: 'kumar', 3: 'Gedam'}\n",
      "Dushyant\n",
      "Key: 3, Value: Gedam\n",
      "{}\n"
     ]
    }
   ],
   "source": [
    "d3 = {1: 'Dushyant', 2: 'kumar', 3: 'Gedam', 'age':22}\n",
    "\n",
    "del d3[\"age\"]\n",
    "print(d3)\n",
    "\n",
    "val = d3.pop(1)\n",
    "print(val)\n",
    "\n",
    "key, val = d3.popitem()\n",
    "print(f\"Key: {key}, Value: {val}\")\n",
    "\n",
    "d3.clear()\n",
    "print(d3)"
   ]
  },
  {
   "cell_type": "markdown",
   "id": "fd665be5-4e8b-476e-8963-4da9ab5c1155",
   "metadata": {},
   "source": [
    "### Iterating Through a Dictionary"
   ]
  },
  {
   "cell_type": "markdown",
   "id": "d1d67e8b-419a-4fc1-9393-42de30a77bcd",
   "metadata": {},
   "source": [
    "1. using keys() method"
   ]
  },
  {
   "cell_type": "code",
   "execution_count": 15,
   "id": "dc5a05e0-36af-4c45-93b5-9eabbbb458a6",
   "metadata": {},
   "outputs": [
    {
     "name": "stdout",
     "output_type": "stream",
     "text": [
      "{1: 'Chiku', 2: 'Dushyant', 3: 'Gedam'}\n",
      "1\n",
      "2\n",
      "3\n"
     ]
    }
   ],
   "source": [
    "print(d)\n",
    "\n",
    "\n",
    "for i in d:\n",
    "    print(i)"
   ]
  },
  {
   "cell_type": "markdown",
   "id": "ffb6cb8a-7b65-4252-8b8a-e297d7ce1568",
   "metadata": {},
   "source": [
    "2. using values() method"
   ]
  },
  {
   "cell_type": "code",
   "execution_count": 16,
   "id": "9bc82b8b-fd0d-4ca4-9f85-8ba04fa64c2e",
   "metadata": {},
   "outputs": [
    {
     "name": "stdout",
     "output_type": "stream",
     "text": [
      "Chiku\n",
      "Dushyant\n",
      "Gedam\n"
     ]
    }
   ],
   "source": [
    "for i in d.values():\n",
    "    print(i)"
   ]
  },
  {
   "cell_type": "markdown",
   "id": "fd1fc9d8-60ae-4446-b41d-9d71c14049a2",
   "metadata": {},
   "source": [
    "3. using item() method"
   ]
  },
  {
   "cell_type": "code",
   "execution_count": 23,
   "id": "facbc416-a70a-4a24-b3ab-e3a337e6c0c5",
   "metadata": {},
   "outputs": [
    {
     "name": "stdout",
     "output_type": "stream",
     "text": [
      "1,Chiku\n",
      "1 Chiku\n",
      "2,Dushyant\n",
      "2 Dushyant\n",
      "3,Gedam\n",
      "3 Gedam\n"
     ]
    }
   ],
   "source": [
    "for i,j in d.items():\n",
    "    print(f\"{i},{j}\")\n",
    "    print(i,j)"
   ]
  },
  {
   "cell_type": "raw",
   "id": "df4e0c66-ebf3-4547-8c6a-20956ffc5067",
   "metadata": {},
   "source": []
  }
 ],
 "metadata": {
  "kernelspec": {
   "display_name": "Python 3 (ipykernel)",
   "language": "python",
   "name": "python3"
  },
  "language_info": {
   "codemirror_mode": {
    "name": "ipython",
    "version": 3
   },
   "file_extension": ".py",
   "mimetype": "text/x-python",
   "name": "python",
   "nbconvert_exporter": "python",
   "pygments_lexer": "ipython3",
   "version": "3.12.5"
  }
 },
 "nbformat": 4,
 "nbformat_minor": 5
}
